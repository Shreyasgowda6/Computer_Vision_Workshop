{
 "cells": [
  {
   "cell_type": "raw",
   "id": "70e29377",
   "metadata": {},
   "source": [
    "ContentBy: Midhun Chandran <learnwithmidhuncnair@gmail.com>\n",
    "License: Feel free to copy, edit, enhance and share.\n",
    "GitHub: https://github.com/midhuncnair/learnDLwithMidhun"
   ]
  },
  {
   "cell_type": "markdown",
   "id": "31f2e517",
   "metadata": {},
   "source": [
    "# Prerequisite Installation Script\n",
    "## *** NOT For MacBook with \"Apple Silicon Chip\" ***"
   ]
  },
  {
   "cell_type": "code",
   "execution_count": 1,
   "id": "fcfa02ee",
   "metadata": {},
   "outputs": [],
   "source": [
    "import importlib\n",
    "import sys\n",
    "import os\n",
    "\n",
    "from IPython.core.display import HTML"
   ]
  },
  {
   "cell_type": "code",
   "execution_count": 2,
   "id": "c502c567",
   "metadata": {},
   "outputs": [],
   "source": [
    "PACKAGES = [\n",
    "    ('numpy', 'pip install numpy'),\n",
    "    ('pandas', 'pip install pandas'),\n",
    "    ('matplotlib', 'pip install matplotlib'),\n",
    "    ('scipy', 'pip install scipy'),\n",
    "    ('cv2', 'pip install opencv-python'),\n",
    "    ('tensorflow', 'pip install tensorflow'),\n",
    "]"
   ]
  },
  {
   "cell_type": "code",
   "execution_count": 3,
   "id": "8c714a67",
   "metadata": {},
   "outputs": [],
   "source": [
    "def import_package():\n",
    "    global PACKAGES\n",
    "    restart_needed = False\n",
    "    for package_name, pip_install in PACKAGES:\n",
    "        print(f\"Trying to import {package_name}\")\n",
    "        try:\n",
    "            importlib.import_module(package_name)\n",
    "        except ImportError:\n",
    "            restart_needed = True\n",
    "            cmd = f'{sys.executable} -m {pip_install}'\n",
    "            print(f\"Trying to call `{cmd}`\")\n",
    "            os.system(cmd)\n",
    "    return restart_needed\n",
    "\n",
    "def call_import_and_restart():\n",
    "    if import_package():\n",
    "        print(\"New Package installed; Restart needed\")\n",
    "        return HTML(\n",
    "            \"\"\"\n",
    "            <script>\n",
    "                if (window.confirm(\"Restart Required!! click ok to restart.\")) {\n",
    "                    Jupyter.notebook.kernel.restart()\n",
    "                    Jupyter.notebook.execute_all_cells()\n",
    "                }\n",
    "            </script>\n",
    "            \"\"\")\n",
    "    else:\n",
    "        print(\"No New Package\")"
   ]
  },
  {
   "cell_type": "code",
   "execution_count": 4,
   "id": "b856cb89",
   "metadata": {},
   "outputs": [
    {
     "name": "stdout",
     "output_type": "stream",
     "text": [
      "Trying to import numpy\n",
      "Trying to import pandas\n",
      "Trying to import matplotlib\n",
      "Trying to import scipy\n",
      "Trying to import cv2\n",
      "Trying to import tensorflow\n",
      "No New Package\n"
     ]
    }
   ],
   "source": [
    "call_import_and_restart()"
   ]
  }
 ],
 "metadata": {
  "kernelspec": {
   "display_name": "Python 3 (ipykernel)",
   "language": "python",
   "name": "python3"
  },
  "language_info": {
   "codemirror_mode": {
    "name": "ipython",
    "version": 3
   },
   "file_extension": ".py",
   "mimetype": "text/x-python",
   "name": "python",
   "nbconvert_exporter": "python",
   "pygments_lexer": "ipython3",
   "version": "3.9.13"
  }
 },
 "nbformat": 4,
 "nbformat_minor": 5
}
